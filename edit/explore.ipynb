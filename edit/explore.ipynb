{
 "cells": [
  {
   "cell_type": "code",
   "execution_count": 94,
   "metadata": {},
   "outputs": [
    {
     "data": {
      "text/plain": [
       "<Element {http://www.omg.org/spec/BPMN/20100524/MODEL}definitions at 0x215a3360c80>"
      ]
     },
     "execution_count": 94,
     "metadata": {},
     "output_type": "execute_result"
    }
   ],
   "source": [
    "from lxml import etree\n",
    "\n",
    "tree = etree.parse(\"replace.bpmn\")\n",
    "\n",
    "root = tree.getroot()\n",
    "root"
   ]
  },
  {
   "cell_type": "code",
   "execution_count": 51,
   "metadata": {},
   "outputs": [
    {
     "data": {
      "text/plain": [
       "{'xsi': 'http://www.w3.org/2001/XMLSchema-instance',\n",
       " 'bpmn': 'http://www.omg.org/spec/BPMN/20100524/MODEL',\n",
       " 'bpmndi': 'http://www.omg.org/spec/BPMN/20100524/DI',\n",
       " 'dc': 'http://www.omg.org/spec/DD/20100524/DC',\n",
       " 'di': 'http://www.omg.org/spec/DD/20100524/DI'}"
      ]
     },
     "execution_count": 51,
     "metadata": {},
     "output_type": "execute_result"
    }
   ],
   "source": [
    "root.nsmap"
   ]
  },
  {
   "cell_type": "code",
   "execution_count": 77,
   "metadata": {},
   "outputs": [
    {
     "name": "stdout",
     "output_type": "stream",
     "text": [
      "<Element {http://www.omg.org/spec/BPMN/20100524/MODEL}task at 0x215a323f2c0>\n",
      "{'id': 'Activity_0m4dehc', 'name': 'A'}\n",
      "<Element {http://www.omg.org/spec/BPMN/20100524/MODEL}task at 0x215a323e100>\n",
      "{'id': 'Activity_06j4hty', 'name': 'B'}\n",
      "<Element {http://www.omg.org/spec/BPMN/20100524/MODEL}task at 0x215a323f3c0>\n",
      "{'id': 'Activity_15yx4fq', 'name': 'C'}\n"
     ]
    }
   ],
   "source": [
    "tasks = root.xpath(\"bpmn:process/bpmn:task\", namespaces=root.nsmap)\n",
    "\n",
    "for task in tasks:\n",
    "    print(task)\n",
    "    print(task.attrib)"
   ]
  },
  {
   "cell_type": "code",
   "execution_count": 53,
   "metadata": {},
   "outputs": [
    {
     "name": "stdout",
     "output_type": "stream",
     "text": [
      "{'id': 'Flow_1hi3vm0', 'sourceRef': 'StartEvent_0q4gktu', 'targetRef': 'Activity_0m4dehc'}\n",
      "{'id': 'Flow_1dw8aov', 'sourceRef': 'Activity_15yx4fq', 'targetRef': 'Event_0ogpkq3'}\n"
     ]
    }
   ],
   "source": [
    "sFs = root.xpath(\"bpmn:process/bpmn:sequenceFlow\", namespaces=root.nsmap)\n",
    "\n",
    "for sF in sFs:\n",
    "    print(sF.attrib)"
   ]
  },
  {
   "cell_type": "code",
   "execution_count": 5,
   "metadata": {},
   "outputs": [],
   "source": [
    "def get_left_most_sequence_flow(root, left_most_id: str) -> str:\n",
    "    return root.xpath(f\"bpmn:process/bpmn:task[@id='{left_most_id}']/bpmn:incoming\", namespaces=root.nsmap)[0].text\n",
    "\n",
    "def get_right_most_sequence_flow(root, right_most_id: str) -> str:\n",
    "    return root.xpath(f\"bpmn:process/bpmn:task[@id='{right_most_id}']/bpmn:outgoing\", namespaces=root.nsmap)[0].text"
   ]
  },
  {
   "cell_type": "code",
   "execution_count": 6,
   "metadata": {},
   "outputs": [
    {
     "data": {
      "text/plain": [
       "'Flow_1hi3vm0'"
      ]
     },
     "execution_count": 6,
     "metadata": {},
     "output_type": "execute_result"
    }
   ],
   "source": [
    "get_left_most_sequence_flow(root, \"Activity_0m4dehc\")"
   ]
  },
  {
   "cell_type": "code",
   "execution_count": 7,
   "metadata": {},
   "outputs": [
    {
     "data": {
      "text/plain": [
       "'Flow_1dw8aov'"
      ]
     },
     "execution_count": 7,
     "metadata": {},
     "output_type": "execute_result"
    }
   ],
   "source": [
    "get_right_most_sequence_flow(root, \"Activity_15yx4fq\")"
   ]
  },
  {
   "cell_type": "code",
   "execution_count": 8,
   "metadata": {},
   "outputs": [],
   "source": [
    "def remove_merged_tasks(root, merged_tasks: list[str]):\n",
    "    bpmn_process = root.xpath(\"bpmn:process\", namespaces=root.nsmap)[0]\n",
    "    for child in bpmn_process.iter():\n",
    "        if \"task\" in child.tag and child.attrib[\"id\"] in merged_tasks:\n",
    "            bpmn_process.remove(child)"
   ]
  },
  {
   "cell_type": "code",
   "execution_count": 43,
   "metadata": {},
   "outputs": [],
   "source": [
    "def remove_tasks_in_diagram(root, tasks):\n",
    "    bpmn_plane = root.xpath(\"bpmndi:BPMNDiagram/bpmndi:BPMNPlane\", namespaces=root.nsmap)[0]\n",
    "    childs_to_remove = []\n",
    "    harvested_bounds = []\n",
    "    for child in bpmn_plane.iter():\n",
    "        if \"BPMNShape\" in child.tag and child.attrib[\"bpmnElement\"] in tasks:\n",
    "            childs_to_remove.append(child)\n",
    "            harvested_bounds.append(child.xpath(\"dc:Bounds\", namespaces=root.nsmap)[0].attrib)\n",
    "    \n",
    "    for child in childs_to_remove:\n",
    "        bpmn_plane.remove(child)\n",
    "        \n",
    "    return harvested_bounds"
   ]
  },
  {
   "cell_type": "code",
   "execution_count": 25,
   "metadata": {},
   "outputs": [
    {
     "name": "stdout",
     "output_type": "stream",
     "text": [
      "{'x': '152', 'y': '102', 'width': '36', 'height': '36'}\n",
      "{'x': '240', 'y': '80', 'width': '100', 'height': '80'}\n",
      "{'x': '400', 'y': '80', 'width': '100', 'height': '80'}\n",
      "{'x': '560', 'y': '80', 'width': '100', 'height': '80'}\n",
      "{'x': '722', 'y': '102', 'width': '36', 'height': '36'}\n"
     ]
    }
   ],
   "source": [
    "bpmn_plane = root.xpath(\"bpmndi:BPMNDiagram/bpmndi:BPMNPlane\", namespaces=root.nsmap)[0]\n",
    "bpmn_plane\n",
    "\n",
    "for child in bpmn_plane.iter():\n",
    "    if \"BPMNShape\" in child.tag:\n",
    "\n",
    "        print(child.xpath(\"dc:Bounds\", namespaces=root.nsmap)[0].attrib)"
   ]
  },
  {
   "cell_type": "code",
   "execution_count": 48,
   "metadata": {},
   "outputs": [
    {
     "data": {
      "text/plain": [
       "[{'x': '240', 'y': '80', 'width': '100', 'height': '80'},\n",
       " {'x': '400', 'y': '80', 'width': '100', 'height': '80'},\n",
       " {'x': '560', 'y': '80', 'width': '100', 'height': '80'}]"
      ]
     },
     "execution_count": 48,
     "metadata": {},
     "output_type": "execute_result"
    }
   ],
   "source": [
    "remove_tasks_in_diagram(root, tasks=[\"Activity_0m4dehc\", \"Activity_06j4hty\", \"Activity_15yx4fq\"])"
   ]
  },
  {
   "cell_type": "code",
   "execution_count": 45,
   "metadata": {},
   "outputs": [],
   "source": [
    "remove_merged_tasks(root, [\"Activity_0m4dehc\", \"Activity_06j4hty\", \"Activity_15yx4fq\"])"
   ]
  },
  {
   "cell_type": "code",
   "execution_count": 10,
   "metadata": {},
   "outputs": [],
   "source": [
    "def remove_hanging_sequence_flows(root, sequence_flows: list[str]):\n",
    "    bpmn_process = root.xpath(\"bpmn:process\", namespaces=root.nsmap)[0]\n",
    "    for child in bpmn_process.iter():\n",
    "        if \"sequenceFlow\" in child.tag and child.attrib[\"id\"] in sequence_flows:\n",
    "            bpmn_process.remove(child)"
   ]
  },
  {
   "cell_type": "code",
   "execution_count": 11,
   "metadata": {},
   "outputs": [],
   "source": [
    "remove_hanging_sequence_flows(root, [\"Flow_0bq7cco\", \"Flow_1g9jqqx\"])"
   ]
  },
  {
   "cell_type": "code",
   "execution_count": 95,
   "metadata": {},
   "outputs": [],
   "source": [
    "import string\n",
    "import random\n",
    "\n",
    "def generate_random_string(length: int) -> str:\n",
    "    characters = string.ascii_lowercase + string.digits\n",
    "    return ''.join(random.choices(characters, k=length))\n",
    "\n",
    "def add_task(root, task_name, incoming_flow, outgoing_flow):\n",
    "    bpmn_process = root.xpath(\"bpmn:process\", namespaces=root.nsmap)[0]\n",
    "    new_task = etree.SubElement(bpmn_process, f\"{{{root.nsmap['bpmn']}}}task\", nsmap=root.nsmap)\n",
    "    new_task.attrib[\"id\"] = f\"Activity_{generate_random_string(length=6)}\"\n",
    "    new_task.attrib[\"name\"] = task_name\n",
    "    incoming = etree.SubElement(new_task, f\"{{{root.nsmap['bpmn']}}}incoming\", nsmap=root.nsmap)\n",
    "    incoming.text = incoming_flow\n",
    "    outgoing = etree.SubElement(new_task, f\"{{{root.nsmap['bpmn']}}}outgoing\", nsmap=root.nsmap)\n",
    "    outgoing.text = outgoing_flow\n",
    "\n",
    "    sf_left = bpmn_process.xpath(f\"bpmn:sequenceFlow[@id='{incoming_flow}']\", namespaces=root.nsmap)[0]\n",
    "    sf_left.attrib[\"targetRef\"] = new_task.attrib[\"id\"]\n",
    "\n",
    "    sf_right = bpmn_process.xpath(f\"bpmn:sequenceFlow[@id='{outgoing_flow}']\", namespaces=root.nsmap)[0]\n",
    "    sf_right.attrib[\"sourceRef\"] = new_task.attrib[\"id\"]\n",
    "\n"
   ]
  },
  {
   "cell_type": "code",
   "execution_count": 96,
   "metadata": {},
   "outputs": [],
   "source": [
    "add_task(root, \"ABC\", \"Flow_1hi3vm0\", \"Flow_1dw8aov\")"
   ]
  },
  {
   "cell_type": "code",
   "execution_count": 97,
   "metadata": {},
   "outputs": [],
   "source": [
    "tree.write(\"test\", pretty_print=True)"
   ]
  },
  {
   "cell_type": "code",
   "execution_count": null,
   "metadata": {},
   "outputs": [],
   "source": []
  }
 ],
 "metadata": {
  "kernelspec": {
   "display_name": ".venv",
   "language": "python",
   "name": "python3"
  },
  "language_info": {
   "codemirror_mode": {
    "name": "ipython",
    "version": 3
   },
   "file_extension": ".py",
   "mimetype": "text/x-python",
   "name": "python",
   "nbconvert_exporter": "python",
   "pygments_lexer": "ipython3",
   "version": "3.10.4"
  },
  "orig_nbformat": 4
 },
 "nbformat": 4,
 "nbformat_minor": 2
}
